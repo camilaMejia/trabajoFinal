{
 "cells": [
  {
   "cell_type": "markdown",
   "metadata": {},
   "source": [
    "# Lanzar el cluster con todo instalado"
   ]
  },
  {
   "cell_type": "markdown",
   "metadata": {},
   "source": [
    "ssh -i ~/st01800.pem hadoop@ec2-18-208-213-45.compute-1.amazonaws.com\n",
    "sudo su\n",
    "passwd hadoop\n",
    "\\# poner clave: eafit2019\n",
    "yum install -y gcc-c++ make\n",
    "curl -sL https://rpm.nodesource.com/setup_6.x | sudo -E bash -\n",
    "yum install -y nodejs\n",
    "yum -y install git\n",
    "npm install -g configurable-http-proxy\n",
    "su - hadoop\n",
    "virtualenv env --python=python3\n",
    "cd env\n",
    "source bin/activate\n",
    "python3 -m pip install jupyterhub\n",
    "npm install configurable-http-proxy\n",
    "python3 -m pip install notebook\n",
    "easy_install jinja2 sqlalchemy tornado notebook\n",
    "python3 -m pip install pandas pyspark metapy\n",
    "git clone https://github.com/camilaMejia/trabajoFinal.git\n",
    "jupyterhub --port 8080"
   ]
  },
  {
   "cell_type": "markdown",
   "metadata": {},
   "source": [
    "## Instalar librerias y complementos"
   ]
  },
  {
   "cell_type": "code",
   "execution_count": null,
   "metadata": {
    "scrolled": true
   },
   "outputs": [],
   "source": [
    "! pip install pandas\n",
    "! pip install pyspark\n",
    "! pip install metapy\n",
    "! pip install pyDrive\n",
    "! sudo yum -y install git"
   ]
  },
  {
   "cell_type": "markdown",
   "metadata": {},
   "source": [
    "# Cargar librerias"
   ]
  },
  {
   "cell_type": "code",
   "execution_count": 22,
   "metadata": {},
   "outputs": [],
   "source": [
    "import pandas as pd\n",
    "import pyspark\n",
    "from pyspark.sql import SQLContext\n",
    "from pyspark.mllib.linalg import Vector, Vectors\n",
    "from pyspark.mllib.clustering import LDA, LDAModel\n",
    "import metapy\n",
    "import requests, zipfile, io, os"
   ]
  },
  {
   "cell_type": "markdown",
   "metadata": {},
   "source": [
    "# Cargar datos necesarios "
   ]
  },
  {
   "cell_type": "code",
   "execution_count": 23,
   "metadata": {},
   "outputs": [],
   "source": [
    "! rm -rf \"trabajoFinal\"\n",
    "! rm -rf \"data\"\n",
    "! rm -rf \"news-idx\""
   ]
  },
  {
   "cell_type": "code",
   "execution_count": 24,
   "metadata": {
    "scrolled": true
   },
   "outputs": [
    {
     "name": "stdout",
     "output_type": "stream",
     "text": [
      "Cloning into 'trabajoFinal'...\n",
      "remote: Enumerating objects: 25, done.\u001b[K\n",
      "remote: Counting objects: 100% (25/25), done.\u001b[K\n",
      "remote: Compressing objects: 100% (19/19), done.\u001b[K\n",
      "remote: Total 25 (delta 7), reused 20 (delta 4), pack-reused 0\u001b[K\n",
      "Unpacking objects: 100% (25/25), done.\n",
      "cp: cannot create regular file ‘/home/hadoop/./.git/objects/3d/aed5921f383f057c9c41a7f242959a548491d8’: Permission denied\n",
      "cp: cannot create regular file ‘/home/hadoop/./.git/objects/6b/ee55717989da9e1524a1e1f177a9bd4b8c6d05’: Permission denied\n",
      "cp: cannot create regular file ‘/home/hadoop/./.git/objects/a3/b7a050f02084b324853ffdb9b901e1d3738a28’: Permission denied\n",
      "cp: cannot create regular file ‘/home/hadoop/./.git/objects/4e/7cfb2d249c28d077484d5ca38289e8484565f7’: Permission denied\n",
      "cp: cannot create regular file ‘/home/hadoop/./.git/objects/4e/59fbcbfd9aa75255462235e7d36cb47f126031’: Permission denied\n",
      "cp: cannot create regular file ‘/home/hadoop/./.git/objects/23/d5747be6b18a13db83a10e2a157511897ec744’: Permission denied\n",
      "cp: cannot create regular file ‘/home/hadoop/./.git/objects/9e/b3a907ca386606d949830d688ec8c00e1cb36c’: Permission denied\n",
      "cp: cannot create regular file ‘/home/hadoop/./.git/objects/4b/5f3a3effa593a88e8c0aa240d3134d7554b7a5’: Permission denied\n",
      "cp: cannot create regular file ‘/home/hadoop/./.git/objects/4a/ee5077e32517c3354ff637d4f6622b93615162’: Permission denied\n",
      "cp: cannot create regular file ‘/home/hadoop/./.git/objects/28/c0dfbb9be8db72e10937d1bc894b7179456a69’: Permission denied\n",
      "cp: cannot create regular file ‘/home/hadoop/./.git/objects/9d/bf7e2ce45260f9531c7a3c602b97f46c92b747’: Permission denied\n",
      "cp: cannot create regular file ‘/home/hadoop/./.git/objects/ca/6e493276805453c8d2bd262eb585d7eb463ec2’: Permission denied\n",
      "cp: cannot create regular file ‘/home/hadoop/./.git/objects/0a/150fc4a75787459ae39896973962f2cb225f21’: Permission denied\n",
      "cp: cannot create regular file ‘/home/hadoop/./.git/objects/81/97a58ee1e8c9a1fbf786b5fb54da6c40b6274c’: Permission denied\n",
      "cp: cannot create regular file ‘/home/hadoop/./.git/objects/89/4a44cc066a027465cd26d634948d56d13af9af’: Permission denied\n",
      "cp: cannot create regular file ‘/home/hadoop/./.git/objects/c6/ca41ae15223beee503ce7ab06238757662f2b2’: Permission denied\n",
      "cp: cannot create regular file ‘/home/hadoop/./.git/objects/8b/d0a32cc2936ef1acb1a14c01b329abc66fc397’: Permission denied\n",
      "cp: cannot create regular file ‘/home/hadoop/./.git/objects/8b/eaf5a023e8df2801c4ba7160245d4380488843’: Permission denied\n",
      "cp: cannot create regular file ‘/home/hadoop/./.git/objects/3b/d6fe267083d7dbfa4d2c3b0ba690ecefc09f33’: Permission denied\n"
     ]
    }
   ],
   "source": [
    "! git clone https://github.com/camilaMejia/trabajoFinal.git \n",
    "! cp -R \"/home/hadoop/trabajoFinal/.\" \"/home/hadoop/\" "
   ]
  },
  {
   "cell_type": "markdown",
   "metadata": {},
   "source": [
    "## Inverted index using metapy\n"
   ]
  },
  {
   "cell_type": "code",
   "execution_count": 25,
   "metadata": {},
   "outputs": [],
   "source": [
    "\n",
    "idx = metapy.index.make_inverted_index('miniconfig2.toml')\n"
   ]
  },
  {
   "cell_type": "markdown",
   "metadata": {},
   "source": [
    "# IR: Querys"
   ]
  },
  {
   "cell_type": "code",
   "execution_count": 26,
   "metadata": {},
   "outputs": [
    {
     "data": {
      "text/plain": [
       "[(78, 5.8347978591918945),\n",
       " (7, 5.74954891204834),\n",
       " (43, 5.704830646514893),\n",
       " (74, 4.35679292678833),\n",
       " (51, 3.7929983139038086)]"
      ]
     },
     "execution_count": 26,
     "metadata": {},
     "output_type": "execute_result"
    }
   ],
   "source": [
    "ranker = metapy.index.OkapiBM25()\n",
    "query = metapy.index.Document()\n",
    "query.content('Trump and China') # query from AP news\n",
    "top_docs = ranker.score(idx, query, num_results=5)\n",
    "top_docs"
   ]
  },
  {
   "cell_type": "code",
   "execution_count": 14,
   "metadata": {},
   "outputs": [],
   "source": []
  },
  {
   "cell_type": "code",
   "execution_count": null,
   "metadata": {},
   "outputs": [],
   "source": []
  }
 ],
 "metadata": {
  "kernelspec": {
   "display_name": "Python 3",
   "language": "python",
   "name": "python3"
  },
  "language_info": {
   "codemirror_mode": {
    "name": "ipython",
    "version": 3
   },
   "file_extension": ".py",
   "mimetype": "text/x-python",
   "name": "python",
   "nbconvert_exporter": "python",
   "pygments_lexer": "ipython3",
   "version": "3.6.8"
  }
 },
 "nbformat": 4,
 "nbformat_minor": 2
}
