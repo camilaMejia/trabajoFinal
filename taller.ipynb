{
 "cells": [
  {
   "cell_type": "markdown",
   "metadata": {},
   "source": [
    "## Taller de evaluación materia ST1800 Almacenamiento y Recuperación de Información (2019-1)\n",
    "## Estudiante: Mateo Graciano Londoño\n",
    "## profesor: Edwin Montoya - emontoya@eafit.edu.co\n",
    "## evaluación: se entrega el taller resuelto tanto en código, resultados y análisis\n",
    "\n"
   ]
  },
  {
   "cell_type": "markdown",
   "metadata": {},
   "source": [
    "# Punto 1"
   ]
  },
  {
   "cell_type": "code",
   "execution_count": 1,
   "metadata": {},
   "outputs": [
    {
     "data": {
      "text/html": [
       "<div>\n",
       "<style scoped>\n",
       "    .dataframe tbody tr th:only-of-type {\n",
       "        vertical-align: middle;\n",
       "    }\n",
       "\n",
       "    .dataframe tbody tr th {\n",
       "        vertical-align: top;\n",
       "    }\n",
       "\n",
       "    .dataframe thead th {\n",
       "        text-align: right;\n",
       "    }\n",
       "</style>\n",
       "<table border=\"1\" class=\"dataframe\">\n",
       "  <thead>\n",
       "    <tr style=\"text-align: right;\">\n",
       "      <th></th>\n",
       "      <th>identifier</th>\n",
       "      <th>title</th>\n",
       "      <th>description</th>\n",
       "      <th>subject</th>\n",
       "      <th>creator</th>\n",
       "    </tr>\n",
       "  </thead>\n",
       "  <tbody>\n",
       "    <tr>\n",
       "      <th>0</th>\n",
       "      <td>http://arxiv.org/abs/0704.3504</td>\n",
       "      <td>Smooth R\\'enyi Entropy of Ergodic Quantum Info...</td>\n",
       "      <td>We prove that the average smooth Renyi entro...</td>\n",
       "      <td>Quantum Physics ; Computer Science - Informati...</td>\n",
       "      <td>Schoenmakers, Berry ; Tjoelker, Jilles ; Tuyls...</td>\n",
       "    </tr>\n",
       "    <tr>\n",
       "      <th>1</th>\n",
       "      <td>http://arxiv.org/abs/0706.1402</td>\n",
       "      <td>Analyzing Design Process and Experiments on th...</td>\n",
       "      <td>In the field of tutoring systems, investigat...</td>\n",
       "      <td>Computer Science - Computers and Society ; Com...</td>\n",
       "      <td>Brust, Matthias R. ; Rothkugel, Steffen ;</td>\n",
       "    </tr>\n",
       "    <tr>\n",
       "      <th>2</th>\n",
       "      <td>http://arxiv.org/abs/0710.0736</td>\n",
       "      <td>Colour image segmentation by the vector-valued...</td>\n",
       "      <td>We propose a new method for the numerical so...</td>\n",
       "      <td>Computer Science - Computer Vision and Pattern...</td>\n",
       "      <td>Kay, David A ; Tomasi, Alessandro ;</td>\n",
       "    </tr>\n",
       "    <tr>\n",
       "      <th>3</th>\n",
       "      <td>http://arxiv.org/abs/0803.2570</td>\n",
       "      <td>Unequal Error Protection: An Information Theor...</td>\n",
       "      <td>An information theoretic framework for unequ...</td>\n",
       "      <td>Computer Science - Information Theory ; Comput...</td>\n",
       "      <td>Borade, Shashi ; Nakiboglu, Baris ; Zheng, Liz...</td>\n",
       "    </tr>\n",
       "    <tr>\n",
       "      <th>4</th>\n",
       "      <td>http://arxiv.org/abs/0808.0084</td>\n",
       "      <td>On the hitting times of quantum versus random ...</td>\n",
       "      <td>In this paper we define new Monte Carlo type...</td>\n",
       "      <td>Quantum Physics ; Computer Science - Data Stru...</td>\n",
       "      <td>Magniez, Frederic ; Nayak, Ashwin ; Richter, P...</td>\n",
       "    </tr>\n",
       "  </tbody>\n",
       "</table>\n",
       "</div>"
      ],
      "text/plain": [
       "                       identifier  \\\n",
       "0  http://arxiv.org/abs/0704.3504   \n",
       "1  http://arxiv.org/abs/0706.1402   \n",
       "2  http://arxiv.org/abs/0710.0736   \n",
       "3  http://arxiv.org/abs/0803.2570   \n",
       "4  http://arxiv.org/abs/0808.0084   \n",
       "\n",
       "                                               title  \\\n",
       "0  Smooth R\\'enyi Entropy of Ergodic Quantum Info...   \n",
       "1  Analyzing Design Process and Experiments on th...   \n",
       "2  Colour image segmentation by the vector-valued...   \n",
       "3  Unequal Error Protection: An Information Theor...   \n",
       "4  On the hitting times of quantum versus random ...   \n",
       "\n",
       "                                         description  \\\n",
       "0    We prove that the average smooth Renyi entro...   \n",
       "1    In the field of tutoring systems, investigat...   \n",
       "2    We propose a new method for the numerical so...   \n",
       "3    An information theoretic framework for unequ...   \n",
       "4    In this paper we define new Monte Carlo type...   \n",
       "\n",
       "                                             subject  \\\n",
       "0  Quantum Physics ; Computer Science - Informati...   \n",
       "1  Computer Science - Computers and Society ; Com...   \n",
       "2  Computer Science - Computer Vision and Pattern...   \n",
       "3  Computer Science - Information Theory ; Comput...   \n",
       "4  Quantum Physics ; Computer Science - Data Stru...   \n",
       "\n",
       "                                             creator  \n",
       "0  Schoenmakers, Berry ; Tjoelker, Jilles ; Tuyls...  \n",
       "1         Brust, Matthias R. ; Rothkugel, Steffen ;   \n",
       "2               Kay, David A ; Tomasi, Alessandro ;   \n",
       "3  Borade, Shashi ; Nakiboglu, Baris ; Zheng, Liz...  \n",
       "4  Magniez, Frederic ; Nayak, Ashwin ; Richter, P...  "
      ]
     },
     "execution_count": 1,
     "metadata": {},
     "output_type": "execute_result"
    }
   ],
   "source": [
    "# codigo python aca que responda estas preguntas\n",
    "import pandas as pd\n",
    "# 1.1 cargue el archivo en dataframes Pandas Python\n",
    "data=pd.read_csv('articles.csv')\n",
    "# 1.2 imprima el encabezado y los primeros registros\n",
    "data.head()"
   ]
  },
  {
   "cell_type": "code",
   "execution_count": 2,
   "metadata": {},
   "outputs": [
    {
     "data": {
      "text/plain": [
       "5"
      ]
     },
     "execution_count": 2,
     "metadata": {},
     "output_type": "execute_result"
    }
   ],
   "source": [
    "# 1.3 cuantas columnas hay?\n",
    "data.shape[1]"
   ]
  },
  {
   "cell_type": "code",
   "execution_count": 3,
   "metadata": {},
   "outputs": [
    {
     "name": "stdout",
     "output_type": "stream",
     "text": [
      "<class 'pandas.core.frame.DataFrame'>\n",
      "RangeIndex: 980 entries, 0 to 979\n",
      "Data columns (total 5 columns):\n",
      "identifier     980 non-null object\n",
      "title          980 non-null object\n",
      "description    980 non-null object\n",
      "subject        980 non-null object\n",
      "creator        980 non-null object\n",
      "dtypes: object(5)\n",
      "memory usage: 38.4+ KB\n"
     ]
    }
   ],
   "source": [
    "# 1.4 cuales son candidatas a ser seleccionadas para un procesamiento de texto para Búsqueda y Recuperación?\n",
    "data.info()\n",
    "\n"
   ]
  },
  {
   "cell_type": "markdown",
   "metadata": {},
   "source": [
    "   - title \n",
    "   - description\n",
    "   - subject"
   ]
  },
  {
   "cell_type": "markdown",
   "metadata": {},
   "source": [
    "## Punto 2"
   ]
  },
  {
   "cell_type": "markdown",
   "metadata": {},
   "source": [
    "### 2.1 realice la selección de 2 columnas sobre las cuales desea trabajar.\n",
    "\n",
    "- Columna 1: description\n",
    "- Columna 2: subject\n",
    "\n",
    "La explicación es que sin duda alguna la columna con más información es 'description'. Pero nos podemos aprovechar de que estamos usando metadatos para hacer un analisis exploratorio de los temas para saber cuales son los principales tema del dataset.\n",
    "\n",
    "### 2.2 Para realizar el procesamiento, como plantearía trabajar con las 2 columnas?\n",
    "  de forma independiente "
   ]
  },
  {
   "cell_type": "code",
   "execution_count": 4,
   "metadata": {},
   "outputs": [
    {
     "data": {
      "text/html": [
       "<div>\n",
       "<style scoped>\n",
       "    .dataframe tbody tr th:only-of-type {\n",
       "        vertical-align: middle;\n",
       "    }\n",
       "\n",
       "    .dataframe tbody tr th {\n",
       "        vertical-align: top;\n",
       "    }\n",
       "\n",
       "    .dataframe thead th {\n",
       "        text-align: right;\n",
       "    }\n",
       "</style>\n",
       "<table border=\"1\" class=\"dataframe\">\n",
       "  <thead>\n",
       "    <tr style=\"text-align: right;\">\n",
       "      <th></th>\n",
       "      <th>description</th>\n",
       "      <th>subject</th>\n",
       "    </tr>\n",
       "  </thead>\n",
       "  <tbody>\n",
       "    <tr>\n",
       "      <th>0</th>\n",
       "      <td>We prove that the average smooth Renyi entro...</td>\n",
       "      <td>Quantum Physics ; Computer Science - Informati...</td>\n",
       "    </tr>\n",
       "    <tr>\n",
       "      <th>1</th>\n",
       "      <td>In the field of tutoring systems, investigat...</td>\n",
       "      <td>Computer Science - Computers and Society ; Com...</td>\n",
       "    </tr>\n",
       "    <tr>\n",
       "      <th>2</th>\n",
       "      <td>We propose a new method for the numerical so...</td>\n",
       "      <td>Computer Science - Computer Vision and Pattern...</td>\n",
       "    </tr>\n",
       "    <tr>\n",
       "      <th>3</th>\n",
       "      <td>An information theoretic framework for unequ...</td>\n",
       "      <td>Computer Science - Information Theory ; Comput...</td>\n",
       "    </tr>\n",
       "    <tr>\n",
       "      <th>4</th>\n",
       "      <td>In this paper we define new Monte Carlo type...</td>\n",
       "      <td>Quantum Physics ; Computer Science - Data Stru...</td>\n",
       "    </tr>\n",
       "  </tbody>\n",
       "</table>\n",
       "</div>"
      ],
      "text/plain": [
       "                                         description  \\\n",
       "0    We prove that the average smooth Renyi entro...   \n",
       "1    In the field of tutoring systems, investigat...   \n",
       "2    We propose a new method for the numerical so...   \n",
       "3    An information theoretic framework for unequ...   \n",
       "4    In this paper we define new Monte Carlo type...   \n",
       "\n",
       "                                             subject  \n",
       "0  Quantum Physics ; Computer Science - Informati...  \n",
       "1  Computer Science - Computers and Society ; Com...  \n",
       "2  Computer Science - Computer Vision and Pattern...  \n",
       "3  Computer Science - Information Theory ; Comput...  \n",
       "4  Quantum Physics ; Computer Science - Data Stru...  "
      ]
     },
     "execution_count": 4,
     "metadata": {},
     "output_type": "execute_result"
    }
   ],
   "source": [
    "# como primera etapa del procesamiento de datos, se debe realizar la tokenización.\n",
    "# tokenización, es el proceso de dividir el texto en unidades lixicográfica, que en su versión más simple son palabras,\n",
    "# words, o tokens (tambien llamados unigramas)\n",
    "\n",
    "# 2.3 Cree una nueva columna o un nuevo DataFrame para realizar el procesamiento\n",
    "# de aqui en adelante, puede determinar un proceso incremental de reemplazo de la misma columna de acuerdo a los\n",
    "# procesamientos O ir creando columnas nuevas, puede elegir la que quiera.\n",
    "#\n",
    "# codigo python aca que responda estas preguntas\n",
    "\n",
    "data_red=data[['description','subject']]\n",
    "data_red.head()"
   ]
  },
  {
   "cell_type": "markdown",
   "metadata": {},
   "source": [
    "# Punto 3"
   ]
  },
  {
   "cell_type": "code",
   "execution_count": 5,
   "metadata": {},
   "outputs": [
    {
     "name": "stderr",
     "output_type": "stream",
     "text": [
      "/anaconda3/lib/python3.7/site-packages/ipykernel_launcher.py:28: SettingWithCopyWarning: \n",
      "A value is trying to be set on a copy of a slice from a DataFrame.\n",
      "Try using .loc[row_indexer,col_indexer] = value instead\n",
      "\n",
      "See the caveats in the documentation: http://pandas.pydata.org/pandas-docs/stable/indexing.html#indexing-view-versus-copy\n",
      "/anaconda3/lib/python3.7/site-packages/ipykernel_launcher.py:29: SettingWithCopyWarning: \n",
      "A value is trying to be set on a copy of a slice from a DataFrame.\n",
      "Try using .loc[row_indexer,col_indexer] = value instead\n",
      "\n",
      "See the caveats in the documentation: http://pandas.pydata.org/pandas-docs/stable/indexing.html#indexing-view-versus-copy\n"
     ]
    },
    {
     "name": "stdout",
     "output_type": "stream",
     "text": [
      "Numero de tokens antes de quitar SW en descripcion es 143629, temas 9375 y en total 153004\n",
      "Numero de tokens despues de quitar SW en descripcion es 88046, temas 8581 y en total 96627\n"
     ]
    }
   ],
   "source": [
    "# 3.1 Realice la tokenización de las 2 columnas seleccionadas, con .split() de python.\n",
    "# 3.2 Realice la remoción de caracteres especiales (sub.re(....)), o determine una regla para filtrar con cuales tokens se queda, \n",
    "#   y cuales elimina (ej: isalpha() o isalnum()), cual opción va a elegir?\n",
    "# 3.3 Pase todo a minuscula\n",
    "# 3.4 elimine todos los tokens de longitud 1.\n",
    "# 3.5 CUANTOS TOKENS EN TOTAL TIENE EL CONJUNTO DE TOKENs HASTA EL MOMENTO?\n",
    "# 3.6 Realice la remoción de Stop-Words de acuerdo al diccionario de NLTK.\n",
    "# 3.7 CUANTOS TOKENS EN TOTAL TIENE EL CONJUNTO DE TOKENs HASTA EL MOMENTO?\n",
    "\n",
    "import re\n",
    "def punto3_4(text):#solo hasta punto 3.4\n",
    "    tokens = text.split()\n",
    "    tokens = [ re.sub(r'[^A-Za-z0-9]+','',w) for w in tokens ] #Just letters and numbers\n",
    "    tokens = [ w.lower() for w in tokens] #lowercase\n",
    "    tokens = [ w for w in tokens if (len(w)>1) ] #Not single letter words\n",
    "    \n",
    "    return tokens\n",
    "\n",
    "def punto3(text):#solo hasta punto 3.4\n",
    "    tokens = text.split()\n",
    "    tokens = [ re.sub(r'[^A-Za-z0-9]+','',w) for w in tokens ] #Just letters and numbers\n",
    "    tokens = [ w.lower() for w in tokens] #lowercase\n",
    "    tokens = [ w for w in tokens if (len(w)>1) ] #Not single letter words\n",
    "    tokens = [ w for w in tokens if w not in sw ] #Remove stopwords\n",
    "    return tokens\n",
    "\n",
    "funcion=punto3_4\n",
    "data_red['tokens_description']=[funcion(string) for string in data_red.description]\n",
    "data_red['tokens_description_no']=[len(tokens) for tokens in data_red.tokens_description]\n",
    "data_red['tokens_subject']=[funcion(string) for string in data_red.subject]\n",
    "data_red['tokens_subject_no']=[len(tokens) for tokens in data_red.tokens_subject]\n",
    "\n",
    "no_description=data_red.tokens_description_no.sum()\n",
    "no_subject=data_red.tokens_subject_no.sum()\n",
    "no_total=no_description+no_subject\n",
    "\n",
    "print('Numero de tokens antes de quitar SW en descripcion es {}, temas {} y en total {}'.format(no_description, no_subject,no_total))\n",
    "\n",
    "\n",
    "from nltk.corpus import stopwords\n",
    "sw=stopwords.words('english')\n",
    "\n",
    "funcion=punto3\n",
    "data_red['tokens_description']=[funcion(string) for string in data_red.description]\n",
    "data_red['tokens_description_no']=[len(tokens) for tokens in data_red.tokens_description]\n",
    "data_red['tokens_subject']=[funcion(string) for string in data_red.subject]\n",
    "data_red['tokens_subject_no']=[len(tokens) for tokens in data_red.tokens_subject]\n",
    "\n",
    "no_description=data_red.tokens_description_no.sum()\n",
    "no_subject=data_red.tokens_subject_no.sum()\n",
    "no_total=no_description+no_subject\n",
    "print('Numero de tokens despues de quitar SW en descripcion es {}, temas {} y en total {}'.format(no_description, no_subject,no_total))\n",
    "\n",
    "\n",
    "\n",
    "all_tokens_description = [item for sublist in data_red.tokens_description for item in sublist]\n",
    "all_tokens_subject = [item for sublist in data_red.tokens_subject for item in sublist]\n",
    "all_tokens= []\n",
    "all_tokens.extend(all_tokens_subject)\n",
    "all_tokens.extend(all_tokens_description)\n",
    "\n",
    "tokens_p3=all_tokens.copy()\n"
   ]
  },
  {
   "cell_type": "markdown",
   "metadata": {},
   "source": [
    "# Punto 4"
   ]
  },
  {
   "cell_type": "code",
   "execution_count": 6,
   "metadata": {},
   "outputs": [
    {
     "name": "stdout",
     "output_type": "stream",
     "text": [
      "Numero de tokens antes de quitar SW en descripcion es 147209, temas 9169 y en total 156378\n",
      "Numero de tokens despues de quitar SW en descripcion es 91228, temas 8375 y en total 99603\n"
     ]
    }
   ],
   "source": [
    "# Realice una variante al punto 3.x\n",
    "# 4.1 Invierta o intercambie los pasos 3.1 y 3.2, y realice los mismos pasos siguientes: 3.3, 3.4, 3.5 en ese orden.\n",
    "# 4.2 CUANTOS TOKENS EN TOTAL TIENE EL CONJUNTO DE TOKENs HASTA EL MOMENTO?\n",
    "# 4.3 Realice la remoción de Stop-Words de acuerdo al diccionario de NLTK.\n",
    "# 4.4 CUANTOS TOKENS EN TOTAL TIENE EL CONJUNTO DE TOKENs HASTA EL MOMENTO?\n",
    "\n",
    "\n",
    "def punto4_1(text):#solo hasta punto 3.4\n",
    "    #text = re.sub(r'[^A-Za-z0-9\\s]+','',text)#Just letters and numbers\n",
    "    text = re.sub(r'[^A-Za-z0-9]+',' ',text)#Just letters and numbers\n",
    "    tokens = text.split()\n",
    "    tokens = [ w.lower() for w in tokens] #lowercase\n",
    "    tokens = [ w for w in tokens if (len(w)>1) ] #Not single letter words\n",
    "    \n",
    "    return tokens\n",
    "\n",
    "def punto4(text):#solo hasta punto 3.4\n",
    "    #text = re.sub(r'[^A-Za-z0-9\\s]+','',text)#Just letters and numbers\n",
    "    text = re.sub(r'[^A-Za-z0-9]+',' ',text)#Just letters and numbers\n",
    "    tokens = text.split()\n",
    "    tokens = [ w.lower() for w in tokens] #lowercase\n",
    "    tokens = [ w for w in tokens if (len(w)>1) ] #Not single letter words\n",
    "    tokens = [ w for w in tokens if w not in sw ] #Remove stopwords\n",
    "    return tokens\n",
    "\n",
    "funcion=punto4_1\n",
    "data_red['tokens_description']=[funcion(string) for string in data_red.description]\n",
    "data_red['tokens_description_no']=[len(tokens) for tokens in data_red.tokens_description]\n",
    "data_red['tokens_subject']=[funcion(string) for string in data_red.subject]\n",
    "data_red['tokens_subject_no']=[len(tokens) for tokens in data_red.tokens_subject]\n",
    "\n",
    "no_description=data_red.tokens_description_no.sum()\n",
    "no_subject=data_red.tokens_subject_no.sum()\n",
    "no_total=no_description+no_subject\n",
    "print('Numero de tokens antes de quitar SW en descripcion es {}, temas {} y en total {}'.format(no_description, no_subject,no_total))\n",
    "\n",
    "\n",
    "funcion=punto4\n",
    "data_red['tokens_description']=[funcion(string) for string in data_red.description]\n",
    "data_red['tokens_description_no']=[len(tokens) for tokens in data_red.tokens_description]\n",
    "data_red['tokens_subject']=[funcion(string) for string in data_red.subject]\n",
    "data_red['tokens_subject_no']=[len(tokens) for tokens in data_red.tokens_subject]\n",
    "\n",
    "\n",
    "no_description=data_red.tokens_description_no.sum()\n",
    "no_subject=data_red.tokens_subject_no.sum()\n",
    "no_total=no_description+no_subject\n",
    "print('Numero de tokens despues de quitar SW en descripcion es {}, temas {} y en total {}'.format(no_description, no_subject,no_total))\n",
    "\n",
    "\n",
    "all_tokens_description = [item for sublist in data_red.tokens_description for item in sublist]\n",
    "all_tokens_subject = [item for sublist in data_red.tokens_subject for item in sublist]\n",
    "all_tokens= []\n",
    "all_tokens.extend(all_tokens_subject)\n",
    "all_tokens.extend(all_tokens_description)\n",
    "\n",
    "tokens_p4=all_tokens.copy()\n",
    "\n"
   ]
  },
  {
   "cell_type": "markdown",
   "metadata": {},
   "source": [
    "# Punto 5"
   ]
  },
  {
   "cell_type": "code",
   "execution_count": 7,
   "metadata": {},
   "outputs": [
    {
     "name": "stdout",
     "output_type": "stream",
     "text": [
      "['hello', 'please', 'send', 'email', 'mgracianproteccioncomco', 'haty', 'superdense']\n",
      "['hello', 'please', 'send', 'email', 'mgracian', 'proteccion', 'com', 'co', 'hat', 'super', 'dense']\n",
      "\n",
      " Ejemplo de tokens con el procedimiento 3 que no estan con el 4\n",
      " ['imagedescribing', 'i210', 'bitrate', 'pcomplete', 'tspd', 'twostate', '383393', 'g31', 'groundtruth', 'automataone', 'zeroerror', 'rgentiling', 'boseeinstein', 'd22', 'ltimes', 'peripherydriven', 'psi12', 'gradientdescent', 'learningfree', 'bitsize']\n",
      "\n",
      " Ejemplo de tokens con el procedimiento 4 que no estan con el 3\n",
      " ['urquhart', 'si', '5813', 'wigderson', 'kneser', 'oth', 'groves', 'leq1', 'discounted', 'neyman', 'fingerprinting', 'co', 'triggered', 'acz', 'claw', 'antipodal', 'blast', 'howard', '4k', 'geq2']\n"
     ]
    }
   ],
   "source": [
    "# Que conclusiones puede emitir acerca de la calidad y cantidad de tokens de acuerdo a la política \n",
    "# del numeral 3.x VS 4.x\n",
    "# 5. escriba:\n",
    "\n",
    "text='hello, please send me an email to mgracian@proteccion.com.co... that $\\hat{y}$ is super-dense'\n",
    "print(punto3(text))\n",
    "\n",
    "print(punto4(text))\n",
    "\n",
    "p3_nop4=list(set(tokens_p3)-set(tokens_p4))\n",
    "print('\\n Ejemplo de tokens con el procedimiento 3 que no estan con el 4\\n {}'.format(p3_nop4[:20]))\n",
    "\n",
    "p4_nop3=list(set(tokens_p4)-set(tokens_p3))\n",
    "\n",
    "print('\\n Ejemplo de tokens con el procedimiento 4 que no estan con el 3\\n {}'.format(p4_nop3[:20]))\n",
    "\n",
    "\n"
   ]
  },
  {
   "cell_type": "markdown",
   "metadata": {},
   "source": [
    "En general el numero de tokens que tienen ambas tecnicas es muy parecida, por eso para elegir uno de los dos procedimientos vamos a ver los elementos que tienen de diferente como lo vemos en el codigo de arriba, los resultados nos dejan ver que el procedimiento tiene problemas con palabras que tienen algun signo de puntuacion al final pero permite dejar palabras que deberian ser consideradas como un token como lo son las separadas por un '-'. Por la ultima razón parece más adecuada el procedimiento 3 aunque se recomienda que se haga un reemplazo de los espacios al principio y el final de los tokens\n",
    "\n",
    "# Punto 6"
   ]
  },
  {
   "cell_type": "code",
   "execution_count": 8,
   "metadata": {},
   "outputs": [
    {
     "name": "stdout",
     "output_type": "stream",
     "text": [
      "Numero de tokens antes de quitar SW en descripcion es 144404, temas 9376 y en total 153780\n",
      "Numero de tokens despues de quitar SW en descripcion es 88708, temas 8582 y en total 97290\n"
     ]
    }
   ],
   "source": [
    "# De acuerdo a lo que considere mejor estrategia entre 3.x y 4.x, realice el mismo proceso de 3.x o 4.x PERO\n",
    "# Realizando tokenización con la API de NLTK en vez de .split()\n",
    "# puede usar: nltk.word_tokenize o nltk.RegexpTokenizer,\n",
    "# 6.1 CUANTOS TOKENS EN TOTAL TIENE EL CONJUNTO DE TOKENs HASTA EL MOMENTO?\n",
    "# 6.2 Realice la remoción de Stop-Words de acuerdo al diccionario de NLTK.\n",
    "# 6.3 CUANTOS TOKENS EN TOTAL TIENE EL CONJUNTO DE TOKENs HASTA EL MOMENTO?\n",
    "\n",
    "\n",
    "from nltk.tokenize import word_tokenize\n",
    "\n",
    "def punto6_1(text):#solo hasta punto 3.4\n",
    "    tokens = word_tokenize(text)\n",
    "    tokens = [ re.sub(r'[^A-Za-z0-9]+','',w) for w in tokens ] #Just letters and numbers\n",
    "    tokens = [ w.lower() for w in tokens] #lowercase\n",
    "    tokens = [ w for w in tokens if (len(w)>1) ] #Not single letter words\n",
    "    \n",
    "    return tokens\n",
    "\n",
    "def punto6(text):#solo hasta punto 6.1\n",
    "    tokens = word_tokenize(text)\n",
    "    tokens = [ re.sub(r'[^A-Za-z0-9]+','',w) for w in tokens ] #Just letters and numbers\n",
    "    tokens = [ w.lower() for w in tokens] #lowercase\n",
    "    tokens = [ w for w in tokens if (len(w)>1) ] #Not single letter words\n",
    "    tokens = [ w for w in tokens if w not in sw ] #Remove stopwords\n",
    "    return tokens\n",
    "\n",
    "funcion=punto6_1\n",
    "data_red['tokens_description']=[funcion(string) for string in data_red.description]\n",
    "data_red['tokens_description_no']=[len(tokens) for tokens in data_red.tokens_description]\n",
    "data_red['tokens_subject']=[funcion(string) for string in data_red.subject]\n",
    "data_red['tokens_subject_no']=[len(tokens) for tokens in data_red.tokens_subject]\n",
    "\n",
    "no_description=data_red.tokens_description_no.sum()\n",
    "no_subject=data_red.tokens_subject_no.sum()\n",
    "no_total=no_description+no_subject\n",
    "print('Numero de tokens antes de quitar SW en descripcion es {}, temas {} y en total {}'.format(no_description, no_subject,no_total))\n",
    "\n",
    "\n",
    "all_tokens_description = [item for sublist in data_red.tokens_description for item in sublist]\n",
    "all_tokens_subject = [item for sublist in data_red.tokens_subject for item in sublist]\n",
    "all_tokens= []\n",
    "all_tokens.extend(all_tokens_subject)\n",
    "all_tokens.extend(all_tokens_description)\n",
    "tokens_p6_1=all_tokens.copy()\n",
    "\n",
    "funcion=punto6\n",
    "data_red['tokens_description']=[funcion(string) for string in data_red.description]\n",
    "data_red['tokens_description_no']=[len(tokens) for tokens in data_red.tokens_description]\n",
    "data_red['tokens_subject']=[funcion(string) for string in data_red.subject]\n",
    "data_red['tokens_subject_no']=[len(tokens) for tokens in data_red.tokens_subject]\n",
    "\n",
    "\n",
    "no_description=data_red.tokens_description_no.sum()\n",
    "no_subject=data_red.tokens_subject_no.sum()\n",
    "no_total=no_description+no_subject\n",
    "print('Numero de tokens despues de quitar SW en descripcion es {}, temas {} y en total {}'.format(no_description, no_subject,no_total))\n",
    "\n",
    "\n",
    "all_tokens_description = [item for sublist in data_red.tokens_description for item in sublist]\n",
    "all_tokens_subject = [item for sublist in data_red.tokens_subject for item in sublist]\n",
    "all_tokens= []\n",
    "all_tokens.extend(all_tokens_subject)\n",
    "all_tokens.extend(all_tokens_description)\n",
    "\n",
    "tokens_p6=all_tokens.copy()\n",
    "\n"
   ]
  },
  {
   "cell_type": "markdown",
   "metadata": {},
   "source": [
    "# Punto 7"
   ]
  },
  {
   "cell_type": "code",
   "execution_count": 9,
   "metadata": {},
   "outputs": [
    {
     "name": "stdout",
     "output_type": "stream",
     "text": [
      "['hello', 'please', 'send', 'email', 'mgracianproteccioncomco', 'haty', 'superdense']\n",
      "['hello', 'please', 'send', 'email', 'mgracian', 'proteccioncomco', 'hat', 'superdense']\n",
      "\n",
      " Ejemplo de tokens con el procedimiento 3 que no estan con el 6\n",
      " ['least11', 'qary', 'mathcald', 'frac43', 'phiq1alphalambdaqalphageqmathcaljalphaleftlambdaphi0rightq', 'followinghofstadters', 'wlans', 'emphconnectivity', 'automataone', 'tkg', 'mmunu', 'furer', 'bstatistics', 'endequation', '27315031513', 'rgentiling', 'vcerny', 'd35', 'maxwells', '222']\n",
      "\n",
      " Ejemplo de tokens con el procedimiento 6 que no estan con el 3\n",
      " ['urquhart', '3epsilon', 'epsilon3', 'qtoinfty', 'dinmathbb', 'k2log', 'fingerprinting', 'co', 'icml15', 'alphato', 'n4', 'cob', '4k', '2alpha', 'alphaleq', 'sl', 'na', 'eni', 'kbig', '76']\n"
     ]
    }
   ],
   "source": [
    "# Que conclusiones puede emitir acerca de la calidad y cantidad de tokens de acuerdo a la política \n",
    "# de usar .split() or nltk-tokenizer?\n",
    "# 7. escriba:\n",
    "\n",
    "\n",
    "text='hello, please send me an email to mgracian@proteccion.com.co... \\n that $\\hat{y}$ is super-dense'\n",
    "print(punto3(text))\n",
    "\n",
    "print(punto6(text))\n",
    "\n",
    "p3_nop6=list(set(tokens_p3)-set(tokens_p6))\n",
    "print('\\n Ejemplo de tokens con el procedimiento 3 que no estan con el 6\\n {}'.format(p3_nop6[:20]))\n",
    "\n",
    "p6_nop3=list(set(tokens_p6)-set(tokens_p3))\n",
    "\n",
    "print('\\n Ejemplo de tokens con el procedimiento 6 que no estan con el 3\\n {}'.format(p6_nop3[:20]))\n",
    "\n"
   ]
  },
  {
   "cell_type": "markdown",
   "metadata": {},
   "source": [
    "En primer lugar es importante decir que las funciones que vienen por defecto en varios paquetes siempre pueden ser buen punto de partida, pero siempre es bueno tener mayor flexibilidad dado que los algoritmos tan generales no suelen ser tan efectivos siempre.\n",
    "\n",
    "Dicho lo anterior vemos que el algoritmo 3 aún es muy poco elavorado para competir con algoritmo como el de una libreria reconocida como nltk, en particular parece que el algoritmo del punto 6 entiende un poco mejor las formulas de latex y elementos como los correos.\n",
    "\n",
    "# Punto 8\n",
    "\n",
    "Para el resto de ejercicios vamos a usar la metodologia del punto 6 por las razones expuestas en el punto anterior."
   ]
  },
  {
   "cell_type": "code",
   "execution_count": 10,
   "metadata": {},
   "outputs": [
    {
     "name": "stdout",
     "output_type": "stream",
     "text": [
      "[('computer', 1574), ('science', 1562), ('mathematics', 434), ('theory', 281), ('information', 236), ('machine', 174), ('learning', 174), ('computational', 146), ('data', 145), ('physics', 137), ('structures', 136), ('algorithms', 136), ('statistics', 121), ('logic', 105), ('discrete', 99), ('combinatorics', 96), ('control', 94), ('systems', 82), ('analysis', 80), ('complexity', 75)]\n"
     ]
    },
    {
     "data": {
      "text/plain": [
       "<Figure size 1500x500 with 1 Axes>"
      ]
     },
     "metadata": {},
     "output_type": "display_data"
    },
    {
     "name": "stdout",
     "output_type": "stream",
     "text": [
      "[('algorithm', 594), ('problem', 583), ('paper', 474), ('show', 467), ('data', 426), ('also', 405), ('model', 385), ('time', 385), ('number', 361), ('results', 353), ('algorithms', 341), ('two', 327), ('graph', 309), ('method', 303), ('using', 302), ('based', 286), ('new', 274), ('one', 272), ('information', 261), ('set', 248)]\n"
     ]
    },
    {
     "data": {
      "text/plain": [
       "<Figure size 1500x500 with 1 Axes>"
      ]
     },
     "metadata": {},
     "output_type": "display_data"
    }
   ],
   "source": [
    "# Realice un TF (Term Frecuency) por cada una de las palabras del conjunto de datos final.\n",
    "# 8.1 De cual estrategia va a partir? 3.x? 4.x? o 6.x?\n",
    "# 8.2 Genere una lista o conjunto o diccionario de parejas (w,f) palabra-frecuencia para todo el conjunto de datos.\n",
    "# 8.3 imprima el top-20 descendiente de las palabras más frecuentes en el BoW.\n",
    "# 8.4 Realice la grafica de barras en matplotlib de estas 20 palabras en orden descendentes.\n",
    "# 8.5 Realice un análisis cualitativo, de que se le ocurriría podria hacer para eliminar más tokens de este BoW \n",
    "#     hasta el momento? Tenga en cuenta que todavia NO vamos a emplear Stemming ni Lemmatization.\n",
    "\n",
    "import nltk\n",
    "import matplotlib.pyplot as plt\n",
    "funcion = punto6\n",
    "data_red['tokens_description'] = [funcion(string) for string in data_red.description]\n",
    "data_red['tokens_description_no'] = [len(tokens) for tokens in data_red.tokens_description]\n",
    "data_red['tokens_subject'] = [funcion(string) for string in data_red.subject]\n",
    "data_red['tokens_subject_no'] = [len(tokens) for tokens in data_red.tokens_subject]\n",
    "\n",
    "\n",
    "\n",
    "all_tokens_description = [item for sublist in data_red.tokens_description for item in sublist]\n",
    "all_tokens_subject = [item for sublist in data_red.tokens_subject for item in sublist]\n",
    "all_tokens = []\n",
    "all_tokens.extend(all_tokens_subject)\n",
    "all_tokens.extend(all_tokens_description)\n",
    "\n",
    "fdist = nltk.FreqDist(all_tokens_subject)\n",
    "topwords = fdist.most_common(20)\n",
    "print (topwords)\n",
    "x,y = zip(*topwords)\n",
    "plt.figure(figsize=(15,5))\n",
    "plt.bar(x,y)\n",
    "plt.title(\"Las palabras más populares en subject usando punto 6\")\n",
    "plt.xticks(rotation=90)\n",
    "plt.show()\n",
    "\n",
    "\n",
    "\n",
    "fdist = nltk.FreqDist(all_tokens_description)\n",
    "topwords = fdist.most_common(20)\n",
    "print (topwords)\n",
    "x,y = zip(*topwords)\n",
    "plt.figure(figsize=(15,5))\n",
    "plt.bar(x,y)\n",
    "plt.title(\"Las palabras más populares en descripcion usando punto 6\")\n",
    "plt.xticks(rotation=90)\n",
    "plt.show()\n"
   ]
  },
  {
   "cell_type": "markdown",
   "metadata": {},
   "source": [
    "En los resultados de ambas columnas vemos que al menos es evidente que los temas de los que hablan los documentos parace ser de data science. Se ve como oportunidad de mejora que se pueden juntar los plurales (algorithm y algorihtms). Con base en lo anterior la idea más directa y sencilla para refinar los tokens que nos agregan información es agregando a la lista de stopwords palabras qué no agregan mucha información dado el dataset que tenemos como por ejemplo computer, science o algorithm(s). Esto ultimo se da porque el la lista se stopwords que tenemos es muy general y quizá en el contexto de cualquier otro tipo de documentos esas palabras si agregan mucha información.\n",
    "\n",
    "Es evidente que el principal tema presente en los documentos es el de computer science, es por eso que las palabras comunes entre los temas son candidatas a ser incluidas en una nueva lista de stopwords.\n",
    "\n",
    "\n",
    "# Punto 9 "
   ]
  },
  {
   "cell_type": "code",
   "execution_count": 11,
   "metadata": {
    "scrolled": false
   },
   "outputs": [
    {
     "name": "stdout",
     "output_type": "stream",
     "text": [
      "Numero de tokens despues de usar Porter en descripcion es 88708, temas 8582 y en total 97290\n",
      "[('comput', 1822), ('scienc', 1573), ('mathemat', 459), ('theori', 281), ('inform', 236), ('machin', 174), ('learn', 174), ('data', 145), ('physic', 137), ('structur', 136), ('algorithm', 136), ('statist', 128), ('logic', 105), ('discret', 99), ('combinator', 96), ('control', 94), ('network', 91), ('system', 82), ('analysi', 80), ('complex', 75)]\n"
     ]
    },
    {
     "data": {
      "image/png": "[encoded data removed]",
      "text/plain": [
       "<Figure size 1080x360 with 1 Axes>"
      ]
     },
     "metadata": {
      "needs_background": "light"
     },
     "output_type": "display_data"
    },
    {
     "name": "stdout",
     "output_type": "stream",
     "text": [
      "[('algorithm', 955), ('problem', 818), ('use', 751), ('model', 633), ('result', 557), ('show', 550), ('comput', 529), ('graph', 526), ('paper', 490), ('method', 485), ('gener', 466), ('network', 452), ('set', 450), ('time', 445), ('propos', 431), ('data', 426), ('also', 405), ('number', 401), ('system', 358), ('bound', 349)]\n"
     ]
    },
    {
     "data": {
      "image/png": "[encoded data removed]",
      "text/plain": [
       "<Figure size 1080x360 with 1 Axes>"
      ]
     },
     "metadata": {
      "needs_background": "light"
     },
     "output_type": "display_data"
    },
    {
     "data": {
      "image/png": "[encoded data removed]",
      "text/plain": [
       "<Figure size 360x360 with 1 Axes>"
      ]
     },
     "metadata": {
      "needs_background": "light"
     },
     "output_type": "display_data"
    },
    {
     "name": "stdout",
     "output_type": "stream",
     "text": [
      "[12479, 12365, 8644]\n",
      "Numero de tokens despues de usar Lancaster en descripcion es 88708, temas 8582 y en total 97290\n",
      "[('comput', 1822), ('sci', 1573), ('mathem', 459), ('the', 281), ('inform', 236), ('machin', 174), ('learn', 174), ('dat', 145), ('phys', 137), ('structures', 136), ('algorithm', 136), ('stat', 128), ('log', 105), ('discret', 99), ('combin', 96), ('control', 94), ('network', 91), ('system', 82), ('analys', 80), ('complex', 75)]\n"
     ]
    },
    {
     "data": {
      "image/png": "[encoded data removed]",
      "text/plain": [
       "<Figure size 1080x360 with 1 Axes>"
      ]
     },
     "metadata": {
      "needs_background": "light"
     },
     "output_type": "display_data"
    },
    {
     "name": "stdout",
     "output_type": "stream",
     "text": [
      "[('us', 962), ('algorithm', 955), ('problem', 821), ('model', 633), ('result', 557), ('show', 550), ('graph', 542), ('comput', 530), ('gen', 495), ('pap', 491), ('method', 485), ('network', 452), ('set', 450), ('tim', 445), ('class', 440), ('dat', 435), ('propos', 431), ('also', 405), ('numb', 401), ('bas', 385)]\n"
     ]
    },
    {
     "data": {
      "image/png": "[encoded data removed]",
      "text/plain": [
       "<Figure size 1080x360 with 1 Axes>"
      ]
     },
     "metadata": {
      "needs_background": "light"
     },
     "output_type": "display_data"
    },
    {
     "data": {
      "image/png": "[encoded data removed]",
      "text/plain": [
       "<Figure size 360x360 with 1 Axes>"
      ]
     },
     "metadata": {
      "needs_background": "light"
     },
     "output_type": "display_data"
    },
    {
     "name": "stdout",
     "output_type": "stream",
     "text": [
      "[12479, 12365, 7822]\n"
     ]
    }
   ],
   "source": [
    "# Aplique Stemming de NLTK\n",
    "# 9.1 Utilizando Porter\n",
    "# 9.2 CUANTOS TOKENS EN TOTAL TIENE EL CONJUNTO DE TOKENs?\n",
    "# 9.3 imprima el top-20 descendiente de las palabras más frecuentes en el BoW.\n",
    "# 9.4 Realice la grafica de barras en matplotlib de estas 20 palabras en orden descendentes.\n",
    "# 9.5 Realice un análisis cualitativo, del resultado de haber aplicado Porter.\n",
    "# 9.6 Utilizando Lancaster\n",
    "# 9.7 CUANTOS TOKENS EN TOTAL TIENE EL CONJUNTO DE TOKENs?\n",
    "# 9.8 imprima el top-20 descendiente de las palabras más frecuentes en el BoW.\n",
    "# 9.9 Realice la grafica de barras en matplotlib de estas 20 palabras en orden descendentes.\n",
    "# 9.10 Realice un análisis cualitativo, del resultado de haber aplicado Lancaster.\n",
    "\n",
    "from nltk.stem import PorterStemmer, LancasterStemmer\n",
    "### Porter\n",
    "\n",
    "funcion = punto6\n",
    "def porter (tokens):\n",
    "    stemmer=PorterStemmer()\n",
    "    return [stemmer.stem(token) for token in tokens]\n",
    "\n",
    "data_red['tokens_description'] =    [porter(funcion(string)) for string in data_red.description] \n",
    "data_red['tokens_description_no'] = [len(tokens) for tokens in data_red.tokens_description]\n",
    "data_red['tokens_subject'] = [porter(funcion(string)) for string in data_red.subject] \n",
    "data_red['tokens_subject_no'] = [len(tokens) for tokens in data_red.tokens_subject]\n",
    "all_tokens_description = [item for sublist in data_red.tokens_description for item in sublist]\n",
    "all_tokens_subject = [item for sublist in data_red.tokens_subject for item in sublist]\n",
    "all_tokens = []\n",
    "all_tokens.extend(all_tokens_subject)\n",
    "all_tokens.extend(all_tokens_description)\n",
    "\n",
    "no_description=data_red.tokens_description_no.sum()\n",
    "no_subject=data_red.tokens_subject_no.sum()\n",
    "no_total=no_description+no_subject\n",
    "print('Numero de tokens despues de usar Porter en descripcion es {}, temas {} y en total {}'.format(no_description, no_subject,no_total))\n",
    "\n",
    "\n",
    "\n",
    "fdist = nltk.FreqDist(all_tokens_subject)\n",
    "topwords = fdist.most_common(20)\n",
    "print (topwords)\n",
    "x,y = zip(*topwords)\n",
    "plt.figure(figsize=(15,5))\n",
    "plt.bar(x,y)\n",
    "plt.title(\"Las palabras más populares en subject (Porter)\")\n",
    "plt.xticks(rotation=90)\n",
    "plt.show()\n",
    "\n",
    "\n",
    "\n",
    "fdist = nltk.FreqDist(all_tokens_description)\n",
    "topwords = fdist.most_common(20)\n",
    "print (topwords)\n",
    "x,y = zip(*topwords)\n",
    "plt.figure(figsize=(15,5))\n",
    "plt.bar(x,y)\n",
    "plt.title(\"Las palabras más populares en descripcion (Porter)\")\n",
    "plt.xticks(rotation=90)\n",
    "plt.show()\n",
    "\n",
    "pasos=['NLTK+len>1','-stopwords','stemm (Porter)']\n",
    "nv=[len(set(tokens_p6_1)),len(set(tokens_p6)),len(set(all_tokens)) ]\n",
    "\n",
    "\n",
    "\n",
    "plt.figure(figsize=(5,5))\n",
    "plt.bar(pasos,nv)\n",
    "plt.title(\"Reduccion vocabulario Porter\")\n",
    "plt.xticks(rotation=90)\n",
    "plt.show()\n",
    "print(nv)\n",
    "\n",
    "\n",
    "### Lancaster\n",
    "funcion = punto6\n",
    "def lancaster (tokens):\n",
    "    stemmer = LancasterStemmer ()\n",
    "    return [stemmer.stem(token) for token in tokens]\n",
    "\n",
    "data_red['tokens_description'] =    [lancaster(funcion(string)) for string in data_red.description] \n",
    "data_red['tokens_description_no'] = [len(tokens) for tokens in data_red.tokens_description]\n",
    "data_red['tokens_subject'] = [lancaster(funcion(string)) for string in data_red.subject] \n",
    "data_red['tokens_subject_no'] = [len(tokens) for tokens in data_red.tokens_subject]\n",
    "all_tokens_description = [item for sublist in data_red.tokens_description for item in sublist]\n",
    "all_tokens_subject = [item for sublist in data_red.tokens_subject for item in sublist]\n",
    "all_tokens = []\n",
    "all_tokens.extend(all_tokens_subject)\n",
    "all_tokens.extend(all_tokens_description)\n",
    "\n",
    "no_description=data_red.tokens_description_no.sum()\n",
    "no_subject=data_red.tokens_subject_no.sum()\n",
    "no_total=no_description+no_subject\n",
    "print('Numero de tokens despues de usar Lancaster en descripcion es {}, temas {} y en total {}'.format(no_description, no_subject,no_total))\n",
    "\n",
    "\n",
    "\n",
    "fdist = nltk.FreqDist(all_tokens_subject)\n",
    "topwords = fdist.most_common(20)\n",
    "print (topwords)\n",
    "x,y = zip(*topwords)\n",
    "plt.figure(figsize=(15,5))\n",
    "plt.bar(x,y)\n",
    "plt.title(\"Las palabras más populares en  subject (Lancaster)\")\n",
    "plt.xticks(rotation=90)\n",
    "plt.show()\n",
    "\n",
    "\n",
    "\n",
    "fdist = nltk.FreqDist(all_tokens_description)\n",
    "topwords = fdist.most_common(20)\n",
    "print (topwords)\n",
    "x,y = zip(*topwords)\n",
    "plt.figure(figsize=(15,5))\n",
    "plt.bar(x,y)\n",
    "plt.title(\"Las palabras más populares en descripcion (Lancaster)\")\n",
    "plt.xticks(rotation=90)\n",
    "plt.show()\n",
    "\n",
    "\n",
    "pasos=['NLTK+len>1','-stopwords','stemm (Lancaster)']\n",
    "tokens_ps=all_tokens.copy()\n",
    "nv=[len(set(tokens_p6_1)),len(set(tokens_p6)),len(set(tokens_ps)) ]\n",
    "\n",
    "\n",
    "\n",
    "plt.figure(figsize=(5,5))\n",
    "plt.bar(pasos,nv)\n",
    "plt.title(\"Reduccion vocabulario\")\n",
    "plt.xticks(rotation=90)\n",
    "plt.show()\n",
    "print(nv)\n",
    "\n",
    "\n"
   ]
  },
  {
   "cell_type": "markdown",
   "metadata": {},
   "source": [
    "Veamos que los resultados no son muy diferentes, es decir, las raices que se hallan son diferentes pero en ambos casos hacen referencia a lo mismo (es evidente por la repetición). Otro punto es que parece que es mucho más agresiva la forma de hacer el stemming con Lancaster, de hecho en algunos casos es dificil reconocer a qué hace referencia, por ejemplo en theory lo reduce a the mientras que usando porter es theori. \n",
    "\n",
    "En ambos casos es evidente que el numero de palabras en nuestro diccionario se ve reducido en un factor importante!!! mucho más que eliminar stopwords. Tambien es importante decir que la reducción es un poco mayor usando Lancaster (8644 vs 7822)\n",
    "\n",
    "Es importante ver que en estos casos no hay reducción del numero de tokens, solo modificación de los mismos. Veamos que aún haciendo el uso del stemming se sigue llegando a la misma conclusión de que el tema principal es computer science.\n",
    "\n",
    "\n",
    "# Punto 9 (10?)"
   ]
  },
  {
   "cell_type": "code",
   "execution_count": 12,
   "metadata": {},
   "outputs": [
    {
     "name": "stdout",
     "output_type": "stream",
     "text": [
      "Numero de tokens despues de hacer lemmatizacion en descripcion es 88708, temas 8582 y en total 97290\n",
      "[('comput', 1822), ('sci', 1573), ('mathem', 459), ('the', 281), ('inform', 236), ('machin', 174), ('learn', 174), ('dat', 145), ('phys', 137), ('structure', 136), ('algorithm', 136), ('stat', 128), ('log', 105), ('discret', 99), ('combin', 96), ('control', 94), ('network', 91), ('system', 82), ('analys', 80), ('complex', 75)]\n"
     ]
    },
    {
     "data": {
      "image/png": "[encoded data removed]",
      "text/plain": [
       "<Figure size 1080x360 with 1 Axes>"
      ]
     },
     "metadata": {
      "needs_background": "light"
     },
     "output_type": "display_data"
    },
    {
     "name": "stdout",
     "output_type": "stream",
     "text": [
      "[('algorithm', 955), ('us', 922), ('problem', 821), ('show', 644), ('model', 633), ('result', 557), ('graph', 542), ('comput', 530), ('gen', 495), ('pap', 491), ('method', 485), ('network', 452), ('set', 450), ('tim', 445), ('class', 440), ('dat', 435), ('propos', 431), ('also', 405), ('numb', 401), ('bas', 385)]\n"
     ]
    },
    {
     "data": {
      "image/png": "[encoded data removed]",
      "text/plain": [
       "<Figure size 1080x360 with 1 Axes>"
      ]
     },
     "metadata": {
      "needs_background": "light"
     },
     "output_type": "display_data"
    },
    {
     "data": {
      "image/png": "[encoded data removed]",
      "text/plain": [
       "<Figure size 360x360 with 1 Axes>"
      ]
     },
     "metadata": {
      "needs_background": "light"
     },
     "output_type": "display_data"
    },
    {
     "name": "stdout",
     "output_type": "stream",
     "text": [
      "[12479, 12365, 7822, 7710]\n"
     ]
    }
   ],
   "source": [
    "# Aplique Lemmatization de NLTK\n",
    "# 9.1 CUANTOS TOKENS EN TOTAL TIENE EL CONJUNTO DE TOKENs?\n",
    "# 9.2 imprima el top-20 descendiente de las palabras más frecuentes en el BoW.\n",
    "# 9.3 Realice la grafica de barras en matplotlib de estas 20 palabras en orden descendentes.\n",
    "# 9.4 Realice un análisis cualitativo, del resultado de haber aplicado Lemmatization.\n",
    "\n",
    "\n",
    "from nltk.stem import WordNetLemmatizer\n",
    "funcion = punto6\n",
    "def lemma (tokens):\n",
    "    wnl=WordNetLemmatizer()\n",
    "    tokens=[wnl.lemmatize(token,pos='v') for token in tokens]\n",
    "    tokens=[wnl.lemmatize(token,pos='a') for token in tokens]\n",
    "    tokens=[wnl.lemmatize(token,pos='n') for token in tokens]\n",
    "    stemmer = LancasterStemmer ()\n",
    "    tokens =[stemmer.stem(token) for token in tokens]\n",
    "    return tokens\n",
    "\n",
    "data_red['tokens_description'] =    [lemma(funcion(string)) for string in data_red.description] \n",
    "data_red['tokens_description_no'] = [len(tokens) for tokens in data_red.tokens_description]\n",
    "data_red['tokens_subject'] = [lemma(funcion(string)) for string in data_red.subject] \n",
    "data_red['tokens_subject_no'] = [len(tokens) for tokens in data_red.tokens_subject]\n",
    "all_tokens_description = [item for sublist in data_red.tokens_description for item in sublist]\n",
    "all_tokens_subject = [item for sublist in data_red.tokens_subject for item in sublist]\n",
    "all_tokens = []\n",
    "all_tokens.extend(all_tokens_subject)\n",
    "all_tokens.extend(all_tokens_description)\n",
    "\n",
    "no_description=data_red.tokens_description_no.sum()\n",
    "no_subject=data_red.tokens_subject_no.sum()\n",
    "no_total=no_description+no_subject\n",
    "print('Numero de tokens despues de hacer lemmatizacion en descripcion es {}, temas {} y en total {}'.format(no_description, no_subject,no_total))\n",
    "\n",
    "\n",
    "\n",
    "fdist = nltk.FreqDist(all_tokens_subject)\n",
    "topwords = fdist.most_common(20)\n",
    "print (topwords)\n",
    "x,y = zip(*topwords)\n",
    "plt.figure(figsize=(15,5))\n",
    "plt.bar(x,y)\n",
    "plt.title(\"Las palabras más populares en  subject (lemmatize)\")\n",
    "plt.xticks(rotation=90)\n",
    "plt.show()\n",
    "\n",
    "\n",
    "\n",
    "fdist = nltk.FreqDist(all_tokens_description)\n",
    "topwords = fdist.most_common(20)\n",
    "print (topwords)\n",
    "x,y = zip(*topwords)\n",
    "plt.figure(figsize=(15,5))\n",
    "plt.bar(x,y)\n",
    "plt.title(\"Las palabras más populares en descripcion (lemmatize)\")\n",
    "plt.xticks(rotation=90)\n",
    "plt.show()\n",
    "\n",
    "\n",
    "\n",
    "pasos=['NLTK+len>1','-stopwords','stemm (Lancaster)','lemmatize then stemming']\n",
    "\n",
    "\n",
    "nv=[len(set(tokens_p6_1)),len(set(tokens_p6)),len(set(tokens_ps)),len(set(all_tokens))  ]\n",
    "\n",
    "\n",
    "\n",
    "\n",
    "plt.figure(figsize=(5,5))\n",
    "plt.bar(pasos,nv)\n",
    "plt.title(\"Reduccion vocabulario\")\n",
    "plt.xticks(rotation=90)\n",
    "plt.show()\n",
    "print(nv)\n"
   ]
  },
  {
   "cell_type": "markdown",
   "metadata": {},
   "source": [
    "\n",
    "\n",
    "Para hacer la comparación de los resultados en de este proceso es importante comparar los resultados del punto 8. Lo que vemos es que las palabras unicas son más pocas, en particular vemos que hicimos un mejor palabra con el verbo 'show'. Veamos que la reducción de palabras usando este proceso es muy pequeña (de 7822 a 7710). En general aquí podemos concluir que el paso donde efectivamente se hace una mayor reducción de tokens está en el paso de stemming. \n",
    "\n",
    "# Punto 10"
   ]
  },
  {
   "cell_type": "code",
   "execution_count": 13,
   "metadata": {},
   "outputs": [],
   "source": [
    "# EL PUNTO 10 se colocará en caliente durante el examen presencial"
   ]
  }
 ],
 "metadata": {
  "kernelspec": {
   "display_name": "Python 3",
   "language": "python",
   "name": "python3"
  },
  "language_info": {
   "codemirror_mode": {
    "name": "ipython",
    "version": 3
   },
   "file_extension": ".py",
   "mimetype": "text/x-python",
   "name": "python",
   "nbconvert_exporter": "python",
   "pygments_lexer": "ipython3",
   "version": "3.7.1"
  }
 },
 "nbformat": 4,
 "nbformat_minor": 2
}
